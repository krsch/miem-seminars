{
 "cells": [
  {
   "cell_type": "code",
   "execution_count": 7,
   "metadata": {},
   "outputs": [],
   "source": [
    "a = 5"
   ]
  },
  {
   "cell_type": "code",
   "execution_count": 10,
   "metadata": {},
   "outputs": [],
   "source": [
    "b = 1 if a < 7 else 9"
   ]
  },
  {
   "cell_type": "code",
   "execution_count": 17,
   "metadata": {},
   "outputs": [
    {
     "data": {
      "text/plain": [
       "26"
      ]
     },
     "execution_count": 17,
     "metadata": {},
     "output_type": "execute_result"
    }
   ],
   "source": [
    "0b10 + 0o10 + 0x10"
   ]
  },
  {
   "cell_type": "code",
   "execution_count": 12,
   "metadata": {},
   "outputs": [
    {
     "name": "stdout",
     "output_type": "stream",
     "text": [
      "low\n"
     ]
    },
    {
     "data": {
      "text/plain": [
       "7"
      ]
     },
     "execution_count": 12,
     "metadata": {},
     "output_type": "execute_result"
    }
   ],
   "source": [
    "if a <7:\n",
    "        print('low')\n",
    "        a = a + 1\n",
    "else:\n",
    "        print('high')\n",
    "a"
   ]
  },
  {
   "cell_type": "code",
   "execution_count": 19,
   "metadata": {},
   "outputs": [
    {
     "name": "stdout",
     "output_type": "stream",
     "text": [
      "1\n",
      "1\n"
     ]
    }
   ],
   "source": [
    "a = 10\n",
    "b = 3\n",
    "while a >= b:\n",
    "    a = a - b\n",
    "print(a)\n",
    "print(10 % 3)"
   ]
  },
  {
   "cell_type": "code",
   "execution_count": 29,
   "metadata": {},
   "outputs": [
    {
     "name": "stdout",
     "output_type": "stream",
     "text": [
      "-4\n"
     ]
    },
    {
     "data": {
      "text/plain": [
       "True"
      ]
     },
     "execution_count": 29,
     "metadata": {},
     "output_type": "execute_result"
    }
   ],
   "source": [
    "a = 10\n",
    "b = -3\n",
    "print(10 // -3)\n",
    "a // b * b + a % b == a"
   ]
  },
  {
   "cell_type": "code",
   "execution_count": 35,
   "metadata": {},
   "outputs": [
    {
     "name": "stdout",
     "output_type": "stream",
     "text": [
      "2\n",
      "3\n",
      "4\n"
     ]
    }
   ],
   "source": [
    "array = [12,3,4,5]\n",
    "for a in range(2,5):\n",
    "    print('{}'.format(a))"
   ]
  },
  {
   "cell_type": "code",
   "execution_count": 46,
   "metadata": {},
   "outputs": [
    {
     "data": {
      "text/plain": [
       "'result: 7**3 343'"
      ]
     },
     "execution_count": 46,
     "metadata": {},
     "output_type": "execute_result"
    }
   ],
   "source": [
    "a = 3\n",
    "f\"result: 7**{a} {7**a}\""
   ]
  },
  {
   "cell_type": "code",
   "execution_count": 47,
   "metadata": {},
   "outputs": [
    {
     "name": "stdout",
     "output_type": "stream",
     "text": [
      "r[1] = 2\n",
      "r[2] = 3\n",
      "r[3] = 4\n"
     ]
    }
   ],
   "source": [
    "for idx, val in enumerate(range(2,5)):\n",
    "    print('r[{}] = {}'.format(idx+1, val))\n"
   ]
  },
  {
   "cell_type": "code",
   "execution_count": 49,
   "metadata": {},
   "outputs": [
    {
     "data": {
      "text/plain": [
       "'число 0b00011 - 4'"
      ]
     },
     "execution_count": 49,
     "metadata": {},
     "output_type": "execute_result"
    }
   ],
   "source": [
    "'число 0b{0:05b} - {1}'.format(3,4,5)"
   ]
  },
  {
   "cell_type": "code",
   "execution_count": 63,
   "metadata": {},
   "outputs": [
    {
     "name": "stdout",
     "output_type": "stream",
     "text": [
      "[1, 5, 3]\n"
     ]
    }
   ],
   "source": [
    "def find(needle, haystack):\n",
    "    i = 0\n",
    "    while i < len(haystack):\n",
    "        #print('haystack[{}] = {}'.format(i, haystack[i]))\n",
    "        if haystack[i] == needle:\n",
    "            return i\n",
    "        i = i + 1\n",
    "\n",
    "#find(4,[1,5,3,2,4])\n",
    "print([1,5,3,2,4][:-2])"
   ]
  },
  {
   "cell_type": "code",
   "execution_count": 64,
   "metadata": {},
   "outputs": [
    {
     "data": {
      "text/plain": [
       "10"
      ]
     },
     "execution_count": 64,
     "metadata": {},
     "output_type": "execute_result"
    }
   ],
   "source": [
    "def binary_find(needle, haystack):\n",
    "    #print(list(haystack))\n",
    "    if len(haystack) == 1:\n",
    "        return 0\n",
    "    k = len(haystack)//2\n",
    "    if needle <= haystack[k-1]:\n",
    "        #print('налево')\n",
    "        return binary_find(needle, haystack[:k])\n",
    "    else:\n",
    "        #print('направо')\n",
    "        return binary_find(needle, haystack[k:])+k\n",
    "binary_find(10, range(30))"
   ]
  },
  {
   "cell_type": "code",
   "execution_count": 65,
   "metadata": {},
   "outputs": [
    {
     "data": {
      "text/plain": [
       "(3, 4, 5)"
      ]
     },
     "execution_count": 65,
     "metadata": {},
     "output_type": "execute_result"
    }
   ],
   "source": [
    "(3,4,5)"
   ]
  },
  {
   "cell_type": "code",
   "execution_count": 68,
   "metadata": {},
   "outputs": [],
   "source": [
    "for i in range(100):\n",
    "    assert(find(i, range(100)) == binary_find(i, range(100)))"
   ]
  },
  {
   "cell_type": "code",
   "execution_count": 69,
   "metadata": {},
   "outputs": [],
   "source": [
    "один = 1"
   ]
  },
  {
   "cell_type": "code",
   "execution_count": 71,
   "metadata": {},
   "outputs": [
    {
     "name": "stdout",
     "output_type": "stream",
     "text": [
      "a 1, b 2, c 3\n"
     ]
    }
   ],
   "source": [
    "def return2():\n",
    "    return (1,2,3)\n",
    "a,b,c = 1,2,3\n",
    "print(f\"a {a}, b {b}, c {c}\")"
   ]
  },
  {
   "cell_type": "code",
   "execution_count": 52,
   "metadata": {},
   "outputs": [
    {
     "data": {
      "text/plain": [
       "1"
      ]
     },
     "execution_count": 52,
     "metadata": {},
     "output_type": "execute_result"
    }
   ],
   "source": [
    "x = 8\n",
    "def add_two_numbers(a,b):\n",
    "    if a < 4:\n",
    "        return a+b\n",
    "    return x\n",
    "x = add_two_numbers(3,5)\n",
    "if 3 < 4:\n",
    "    x = 3+5\n",
    "x = 1\n",
    "add_two_numbers(4,4)"
   ]
  },
  {
   "cell_type": "code",
   "execution_count": 61,
   "metadata": {},
   "outputs": [
    {
     "name": "stdout",
     "output_type": "stream",
     "text": [
      "in mod1: [3, 1, 2]\n",
      "after call: [3, 1, 2]\n",
      "in mod2: [3, 1, 2]\n",
      "after call: [0, 1, 2]\n"
     ]
    }
   ],
   "source": [
    "def mod1(x):\n",
    "    x[0] = 3\n",
    "    print('in mod1: {}'.format(x))\n",
    "def mod2(x):\n",
    "    x = [3,1,2]\n",
    "    print('in mod2: {}'.format(x))\n",
    "y = [0,1,2]\n",
    "mod1(y)\n",
    "print('after call: {}'.format(y))\n",
    "y = [0,1,2]\n",
    "mod2(y)\n",
    "print('after call: {}'.format(y))"
   ]
  }
 ],
 "metadata": {
  "kernelspec": {
   "display_name": "Python 3",
   "language": "python",
   "name": "python3"
  },
  "language_info": {
   "codemirror_mode": {
    "name": "ipython",
    "version": 3
   },
   "file_extension": ".py",
   "mimetype": "text/x-python",
   "name": "python",
   "nbconvert_exporter": "python",
   "pygments_lexer": "ipython3",
   "version": "3.7.3"
  }
 },
 "nbformat": 4,
 "nbformat_minor": 4
}
