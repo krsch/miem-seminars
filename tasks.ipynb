{
 "cells": [
  {
   "cell_type": "markdown",
   "metadata": {},
   "source": [
    "1. Сравнение алгоритмов сортировки (1)\n",
    "2. PGP (3)\n",
    "3. Простая СУБД, SQL (5)\n",
    "4. Обработка изображений (1-7)\n",
    "5. Обработка звука (1-5)\n",
    "6. Класс многочлена (1)\n",
    "7. Графические приложения:\n",
    "    1. ToDo List\n",
    "    2. Калькулятор\n",
    "    3. Игры"
   ]
  },
  {
   "cell_type": "markdown",
   "metadata": {},
   "source": [
    "# Programming game"
   ]
  }
 ],
 "metadata": {
  "kernelspec": {
   "display_name": "Python 3",
   "language": "python",
   "name": "python3"
  },
  "language_info": {
   "codemirror_mode": {
    "name": "ipython",
    "version": 3
   },
   "file_extension": ".py",
   "mimetype": "text/x-python",
   "name": "python",
   "nbconvert_exporter": "python",
   "pygments_lexer": "ipython3",
   "version": "3.7.3"
  }
 },
 "nbformat": 4,
 "nbformat_minor": 4
}
