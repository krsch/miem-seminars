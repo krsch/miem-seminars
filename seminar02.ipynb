{
 "cells": [
  {
   "cell_type": "code",
   "execution_count": 4,
   "metadata": {},
   "outputs": [],
   "source": [
    "from dataclasses import dataclass\n",
    "from typing import List, Any"
   ]
  },
  {
   "cell_type": "code",
   "execution_count": 5,
   "metadata": {},
   "outputs": [],
   "source": [
    "@dataclass\n",
    "class Stack:\n",
    "    \"\"\" Этот класс реализует стек \"\"\"\n",
    "    a : List[Any]\n",
    "    top : int"
   ]
  },
  {
   "cell_type": "code",
   "execution_count": 9,
   "metadata": {},
   "outputs": [
    {
     "data": {
      "text/plain": [
       "'*****'"
      ]
     },
     "execution_count": 9,
     "metadata": {},
     "output_type": "execute_result"
    }
   ],
   "source": [
    "'*'*5"
   ]
  },
  {
   "cell_type": "code",
   "execution_count": 8,
   "metadata": {},
   "outputs": [
    {
     "data": {
      "text/plain": [
       "Stack(a=[None, None, None, None, None, None, None, None, None, None, None, None, None, None, None, None, None, None, None, None], top=-1)"
      ]
     },
     "execution_count": 8,
     "metadata": {},
     "output_type": "execute_result"
    }
   ],
   "source": [
    "def emptyStack():\n",
    "    return Stack(a=[None]*20, top=-1)\n",
    "emptyStack()"
   ]
  },
  {
   "cell_type": "code",
   "execution_count": 10,
   "metadata": {},
   "outputs": [
    {
     "data": {
      "text/plain": [
       "True"
      ]
     },
     "execution_count": 10,
     "metadata": {},
     "output_type": "execute_result"
    }
   ],
   "source": [
    "# returns True if the stack s is empty\n",
    "def IsEmpty(s: Stack) -> bool:\n",
    "    return s.top < 0\n",
    "def IsFull(s: Stack) -> bool:\n",
    "    return s.top == len(s.a) - 1\n",
    "IsEmpty(emptyStack())"
   ]
  },
  {
   "cell_type": "code",
   "execution_count": 11,
   "metadata": {},
   "outputs": [
    {
     "name": "stdout",
     "output_type": "stream",
     "text": [
      "False\n",
      "2\n"
     ]
    },
    {
     "data": {
      "text/plain": [
       "Stack(a=[1, 3, None, None, None, None, None, None, None, None, None, None, None, None, None, None, None, None, None, None], top=1)"
      ]
     },
     "execution_count": 11,
     "metadata": {},
     "output_type": "execute_result"
    }
   ],
   "source": [
    "def Push(s: Stack, v: Any):\n",
    "    if not IsFull(s):\n",
    "        s.top += 1\n",
    "        s.a[s.top] = v\n",
    "def Pop(s: Stack) -> Any:\n",
    "    if not IsEmpty(s):\n",
    "        result = s.a[s.top]\n",
    "        s.top -= 1\n",
    "        return result\n",
    "s = emptyStack()\n",
    "s2 = s\n",
    "Push(s,1)\n",
    "print(IsEmpty(s))\n",
    "Push(s,2)\n",
    "print(Pop(s))\n",
    "Push(s,3)\n",
    "s2"
   ]
  },
  {
   "cell_type": "code",
   "execution_count": 17,
   "metadata": {},
   "outputs": [
    {
     "data": {
      "text/plain": [
       "[1, 2, 3]"
      ]
     },
     "execution_count": 17,
     "metadata": {},
     "output_type": "execute_result"
    }
   ],
   "source": [
    "a = 3\n",
    "a = [1,2,3]\n",
    "b = a[:]\n",
    "a[0]=4\n",
    "b"
   ]
  },
  {
   "cell_type": "code",
   "execution_count": 38,
   "metadata": {},
   "outputs": [
    {
     "name": "stdout",
     "output_type": "stream",
     "text": [
      "1\n",
      "1\n",
      "5\n"
     ]
    }
   ],
   "source": [
    "def f1():\n",
    "    def f2():\n",
    "        nonlocal x\n",
    "        x = 1\n",
    "        print(x)\n",
    "    x = 3\n",
    "    f2()\n",
    "    print(x)\n",
    "    #return f2\n",
    "x = 5\n",
    "f1()\n",
    "print(x)"
   ]
  },
  {
   "cell_type": "code",
   "execution_count": 39,
   "metadata": {},
   "outputs": [
    {
     "data": {
      "text/plain": [
       "4"
      ]
     },
     "execution_count": 39,
     "metadata": {},
     "output_type": "execute_result"
    }
   ],
   "source": [
    "def add(a):\n",
    "    def func2(b):\n",
    "        return a + b\n",
    "    return func2\n",
    "another_add = add\n",
    "inc = add(1)\n",
    "inc(3)"
   ]
  },
  {
   "cell_type": "code",
   "execution_count": 40,
   "metadata": {},
   "outputs": [
    {
     "data": {
      "text/plain": [
       "3"
      ]
     },
     "execution_count": 40,
     "metadata": {},
     "output_type": "execute_result"
    }
   ],
   "source": [
    "def twice(f, a):\n",
    "    return f(f(a))\n",
    "twice(inc, 1)"
   ]
  },
  {
   "cell_type": "code",
   "execution_count": 49,
   "metadata": {},
   "outputs": [],
   "source": [
    "@dataclass\n",
    "class Queue:\n",
    "    a: List[int]\n",
    "    begin: int\n",
    "    end: int\n",
    "        \n",
    "    def IsEmpty(q):\n",
    "        return q.begin == q.end\n",
    "    def Next(q,i):\n",
    "        return (i+1) % len(q.a)\n",
    "    def IsFull(q):\n",
    "        return Next(q,q.end)==q.begin\n",
    "    def Enqueue(q, v):\n",
    "        if not IsFull(q):\n",
    "            q.a[q.end]=v\n",
    "            q.end=Next(q,q.end)"
   ]
  },
  {
   "cell_type": "code",
   "execution_count": 43,
   "metadata": {},
   "outputs": [
    {
     "data": {
      "text/plain": [
       "Queue(a=[0, 0, 0, 0, 0, 0], begin=0, end=0)"
      ]
     },
     "execution_count": 43,
     "metadata": {},
     "output_type": "execute_result"
    }
   ],
   "source": [
    "def EmptyQueue():\n",
    "    return Queue(a = [0]*6, begin = 0, end = 0)\n",
    "EmptyQueue()"
   ]
  },
  {
   "cell_type": "code",
   "execution_count": 45,
   "metadata": {},
   "outputs": [
    {
     "name": "stdout",
     "output_type": "stream",
     "text": [
      "True\n",
      "True\n"
     ]
    }
   ],
   "source": [
    "def IsEmpty(q):\n",
    "    return q.begin==q.end\n",
    "q = EmptyQueue()\n",
    "print(IsEmpty(q))\n",
    "print(q.IsEmpty())"
   ]
  },
  {
   "cell_type": "code",
   "execution_count": 51,
   "metadata": {},
   "outputs": [
    {
     "data": {
      "text/plain": [
       "False"
      ]
     },
     "execution_count": 51,
     "metadata": {},
     "output_type": "execute_result"
    }
   ],
   "source": [
    "def Next(q,i):\n",
    "    return (i+1) % len(q.a)\n",
    "def IsFull(q):\n",
    "    return Next(q,q.end)==q.begin\n",
    "EmptyQueue()\n",
    "IsFull(EmptyQueue())"
   ]
  },
  {
   "cell_type": "code",
   "execution_count": 52,
   "metadata": {},
   "outputs": [
    {
     "name": "stdout",
     "output_type": "stream",
     "text": [
      "Queue(a=[3, 10, 1, 0, 0, 0], begin=0, end=3)\n"
     ]
    }
   ],
   "source": [
    "def Enqueue(q,v):\n",
    "    if not IsFull(q):\n",
    "        q.a[q.end]=v\n",
    "        q.end=Next(q,q.end)\n",
    "q=EmptyQueue()\n",
    "q.Enqueue(3)\n",
    "q.Enqueue(10)\n",
    "q.Enqueue(1)\n",
    "print(q)"
   ]
  }
 ],
 "metadata": {
  "kernelspec": {
   "display_name": "Python 3",
   "language": "python",
   "name": "python3"
  },
  "language_info": {
   "codemirror_mode": {
    "name": "ipython",
    "version": 3
   },
   "file_extension": ".py",
   "mimetype": "text/x-python",
   "name": "python",
   "nbconvert_exporter": "python",
   "pygments_lexer": "ipython3",
   "version": "3.7.3"
  }
 },
 "nbformat": 4,
 "nbformat_minor": 4
}
